{
 "cells": [
  {
   "cell_type": "code",
   "execution_count": null,
   "metadata": {
    "collapsed": true
   },
   "outputs": [],
   "source": [
    "# Behavioral Data Analysis - Change Detection Task"
   ]
  },
  {
   "cell_type": "code",
   "execution_count": 1,
   "metadata": {
    "collapsed": false
   },
   "outputs": [
    {
     "name": "stdout",
     "output_type": "stream",
     "text": [
      "============================================================\n",
      "Current directory is \n",
      "Dim reshaped from 1 to 2\n",
      "File Preview: \n",
      "------------------------------------------------------------\n",
      "Missing Values Removed: 5\n",
      "^^^^^^^^^^^^^^^^^^^^^^^^^^^^^^^^^^^^^^^^^^^^^^^^^^^^^^^^^^^^\n",
      "Level: Subject\n",
      "794 responses\n",
      "Total Valid Trials 794\n",
      "Hits: 392\n",
      "Misses: 13\n",
      "False Alarms: 103\n",
      "Correct Responses: 286\n",
      "Hitrate: 49.37%\n",
      "False Alarmrate: 12.97%\n",
      "[of valid responses]\n",
      "Level: Per Item in Subject\n",
      "Items: [2, 3, 4, 5]\n"
     ]
    }
   ],
   "source": [
    "import ascribe"
   ]
  },
  {
   "cell_type": "markdown",
   "metadata": {},
   "source": [
    "## Example Data"
   ]
  },
  {
   "cell_type": "code",
   "execution_count": 3,
   "metadata": {
    "collapsed": false
   },
   "outputs": [
    {
     "name": "stdout",
     "output_type": "stream",
     "text": [
      "     Age Gender  Trial  Items      Match    Cue    RT Response  SOA\n",
      "0     28      f      2      3  non-match   left  3871       FA  593\n",
      "1     28      f      3      3  non-match  right  1841       CR  561\n",
      "2     28      f      5      3  non-match   left  1906       CR  519\n",
      "3     28      f      6      3  non-match   left  1697       CR  568\n",
      "4     28      f      7      3  non-match   left  1896       FA  595\n",
      "5     28      f      8      3      match  right  1657      HIT  518\n",
      "6     28      f      9      3      match   left   753      HIT  583\n",
      "7     28      f     10      3      match  right   815      HIT  538\n",
      "8     28      f     12      3  non-match   left  3654       FA  535\n",
      "9     28      f     13      3  non-match   left  1105       CR  560\n",
      "10    28      f     14      3      match  right  1103      HIT  595\n",
      "11    28      f     15      3  non-match   left  1136       FA  531\n",
      "12    28      f     16      3  non-match  right  1725       CR  585\n",
      "13    28      f     17      3      match  right  1748     MISS  562\n",
      "14    28      f     18      3      match   left  1160      HIT  594\n",
      "15    28      f     19      3  non-match  right  1286       CR  562\n",
      "16    28      f     20      3  non-match   left  1246       CR  562\n",
      "17    28      f     21      3      match   left  1113      HIT  527\n",
      "18    28      f     22      3      match   left  1225      HIT  519\n",
      "19    28      f     23      3      match   left   949      HIT  529\n",
      "20    28      f     24      3      match   left  1737      HIT  595\n",
      "21    28      f     25      3  non-match   left   879       CR  583\n",
      "22    28      f     26      3  non-match  right   905       CR  507\n",
      "23    28      f     27      3      match  right  1056      HIT  555\n",
      "24    28      f     28      3      match   left   881      HIT  573\n",
      "25    28      f     29      3      match  right   922      HIT  519\n",
      "26    28      f     30      3  non-match   left   865       CR  579\n",
      "27    28      f     31      3      match  right  1335      HIT  599\n",
      "28    28      f     32      3      match  right  1264      HIT  503\n",
      "29    28      f     33      3      match   left   776      HIT  566\n",
      "..   ...    ...    ...    ...        ...    ...   ...      ...  ...\n",
      "764   28      f    769      5      match   left   582      HIT  503\n",
      "765   28      f    770      2  non-match  right   598       CR  557\n",
      "766   28      f    771      4  non-match  right   740       CR  579\n",
      "767   28      f    772      5  non-match   left   638       CR  578\n",
      "768   28      f    773      5      match   left   603      HIT  573\n",
      "769   28      f    774      2      match   left   540      HIT  531\n",
      "770   28      f    775      4  non-match   left   588       CR  585\n",
      "771   28      f    776      4      match  right   572      HIT  566\n",
      "772   28      f    777      2      match  right   606      HIT  507\n",
      "773   28      f    778      2      match  right   638      HIT  549\n",
      "774   28      f    779      5  non-match   left   876       CR  542\n",
      "775   28      f    780      2  non-match  right   609       CR  564\n",
      "776   28      f    781      2  non-match  right   722       FA  516\n",
      "777   28      f    782      2  non-match   left   556       CR  598\n",
      "778   28      f    783      4  non-match  right  1180       CR  593\n",
      "779   28      f    784      2      match   left   627      HIT  588\n",
      "780   28      f    785      5  non-match  right   530       FA  531\n",
      "781   28      f    786      4  non-match  right   534       CR  511\n",
      "782   28      f    787      5      match  right   599      HIT  587\n",
      "783   28      f    788      5  non-match  right  1256       FA  521\n",
      "784   28      f    789      2  non-match   left   494       CR  534\n",
      "785   28      f    790      2      match   left   657      HIT  574\n",
      "786   28      f    791      4  non-match   left   685       CR  592\n",
      "787   28      f    792      5      match   left   681      HIT  575\n",
      "788   28      f    793      2      match   left   551      HIT  509\n",
      "789   28      f    794      2  non-match   left   905       CR  530\n",
      "790   28      f    795      2      match   left   523      HIT  584\n",
      "791   28      f    796      4  non-match   left   751       CR  548\n",
      "792   28      f    797      2  non-match   left   647       CR  578\n",
      "793   28      f    798      4      match  right   579      HIT  594\n",
      "\n",
      "[794 rows x 9 columns]\n"
     ]
    }
   ],
   "source": [
    "print(ascribe.file_data)"
   ]
  },
  {
   "cell_type": "markdown",
   "metadata": {},
   "source": [
    "## Response Count"
   ]
  },
  {
   "cell_type": "code",
   "execution_count": 141,
   "metadata": {
    "collapsed": false
   },
   "outputs": [
    {
     "data": {
      "text/plain": [
       "Items  Response\n",
       "2      CR          113\n",
       "       FA            5\n",
       "       HIT         123\n",
       "       MISS          2\n",
       "3      CR           13\n",
       "       FA            4\n",
       "       HIT          17\n",
       "       MISS          2\n",
       "4      CR           86\n",
       "       FA           31\n",
       "       HIT         131\n",
       "       MISS          2\n",
       "5      CR           74\n",
       "       FA           63\n",
       "       HIT         121\n",
       "       MISS          7\n",
       "Name: Response, dtype: int64"
      ]
     },
     "execution_count": 141,
     "metadata": {},
     "output_type": "execute_result"
    }
   ],
   "source": [
    "data = ascribe.file_data\n",
    "\n",
    "pd = ascribe.pd\n",
    "\n",
    "'''a'''\n",
    "\n",
    "'''TODO Groupby Subject ID... Accumulate'''\n",
    "agg_responses_per_items = data.groupby(['Items', 'Response']).aggregate(pd.DataFrame.count)['Response']\n",
    "agg_responses_per_items\n"
   ]
  },
  {
   "cell_type": "markdown",
   "metadata": {},
   "source": [
    "## Median Response Times"
   ]
  },
  {
   "cell_type": "markdown",
   "metadata": {},
   "source": [
    "### Compute Cowan's K"
   ]
  },
  {
   "cell_type": "code",
   "execution_count": 184,
   "metadata": {
    "collapsed": false
   },
   "outputs": [
    {
     "data": {
      "text/plain": [
       "MultiIndex(levels=[[2, 3, 4, 5], [u'CR', u'FA', u'HIT', u'MISS']],\n",
       "           labels=[[0, 0, 0, 0, 1, 1, 1, 1, 2, 2, 2, 2, 3, 3, 3, 3], [0, 1, 2, 3, 0, 1, 2, 3, 0, 1, 2, 3, 0, 1, 2, 3]],\n",
       "           names=[u'Items', u'Response'])"
      ]
     },
     "execution_count": 184,
     "metadata": {},
     "output_type": "execute_result"
    }
   ],
   "source": [
    "agg_responses_per_items.index"
   ]
  },
  {
   "cell_type": "code",
   "execution_count": 252,
   "metadata": {
    "collapsed": false
   },
   "outputs": [
    {
     "name": "stdout",
     "output_type": "stream",
     "text": [
      "2_CR, 3_CR, 4_CR, 5_CR, 2_FA, 3_FA, 4_FA, 5_FA, 2_HIT, 3_HIT, 4_HIT, 5_HIT, 2_MISS, 3_MISS, 4_MISS, 5_MISS\n"
     ]
    }
   ],
   "source": [
    "# Generate Labels\n",
    "\n",
    "ITEMS_ = 0\n",
    "SDT_ = 1\n",
    "\n",
    "a = agg_responses_per_items\n",
    "step_item = len(a.index.levels[ITEMS_])\n",
    "len_agg = len(a.index.labels[ITEMS_])\n",
    "\n",
    "#start = 0\n",
    "#stop = len_agg\n",
    "\n",
    "#item_mask = [i for i in range(start, stop, step_item)]\n",
    "#print(item_mask)\n",
    "\n",
    "#sdt_mask = a.index.labels[SDT_]\n",
    "## DEBUGGABLE TODO --- MAY not return for other items than a quadruple, e.g. [2,3,4,5]\n",
    "#[i for i in step_item * range(start, step_item)] #replace step_item\n",
    "#print(sdt_mask)\n",
    "\n",
    "multi_label = ''\n",
    "\n",
    "sep = ', '\n",
    "for i in a.index.levels[SDT_]:\n",
    "    for j in a.index.levels[ITEMS_]:\n",
    "        multi_label += '{}_{}{}'.format(j, i, sep)\n",
    "\n",
    "# Trim last separator\n",
    "multi_label = multi_label[0:-len(sep)]\n",
    "\n",
    "print multi_label "
   ]
  },
  {
   "cell_type": "code",
   "execution_count": 381,
   "metadata": {
    "collapsed": false
   },
   "outputs": [
    {
     "data": {
      "text/plain": [
       "[Response    452\n",
       " Name: (2, CR), dtype: int64, Response    0.25\n",
       " Name: (2, CR), dtype: float64, Response    0.25\n",
       " Name: (2, CR), dtype: float64]"
      ]
     },
     "execution_count": 381,
     "metadata": {},
     "output_type": "execute_result"
    }
   ],
   "source": [
    "#a.sum(level=[1,0])\n",
    "\n",
    "# Contravariance at work!\n",
    "A = pd.DataFrame(a)\n",
    "#A.index\n",
    "\n",
    "def f(item, sdt_string):\n",
    "    return A.loc[item, SDT_string]\n",
    "\n",
    "pd_total = f(2, 'HIT') + f(2, 'FA') + f(2, 'CR') + f(2, 'MISS')\n",
    "\n",
    "pd_hit_rate = f(2, 'HIT') / pd_total\n",
    "pd_fa_rate = f(2, 'FA') / pd_total\n",
    "\n",
    "# Double check that the sum of all SDTs... like in the numpy intro\n",
    "pd_hit_rate = f(2, 'HIT') / pd_total\n",
    "pd_fa_rate = f(2, 'FA') / pd_total\n",
    "\n",
    "[pd_total, pd_hit_rate, pd_fa_rate]\n",
    "\n",
    "\n",
    "#A.filter(['CR'])\n",
    "#A = A.T\n",
    "#A = A.stack(level=1)\n",
    "#A\n"
   ]
  },
  {
   "cell_type": "code",
   "execution_count": null,
   "metadata": {
    "collapsed": false
   },
   "outputs": [],
   "source": []
  },
  {
   "cell_type": "code",
   "execution_count": 54,
   "metadata": {
    "collapsed": false
   },
   "outputs": [
    {
     "data": {
      "text/plain": [
       "Items  Response\n",
       "2      CR           592.0\n",
       "       FA          1392.0\n",
       "       HIT          646.0\n",
       "       MISS         467.0\n",
       "3      CR          1105.0\n",
       "       FA          2775.0\n",
       "       HIT         1056.0\n",
       "       MISS        1352.5\n",
       "4      CR           751.0\n",
       "       FA           880.0\n",
       "       HIT          658.0\n",
       "       MISS        1024.0\n",
       "5      CR           831.0\n",
       "       FA           823.0\n",
       "       HIT          682.0\n",
       "       MISS         926.0\n",
       "Name: RT, dtype: float64"
      ]
     },
     "execution_count": 54,
     "metadata": {},
     "output_type": "execute_result"
    }
   ],
   "source": [
    "agg_median_rt_per_items = data.groupby(['Items', 'Response']).aggregate(pd.DataFrame.median)['RT']\n",
    "agg_median_rt_per_items"
   ]
  },
  {
   "cell_type": "markdown",
   "metadata": {},
   "source": [
    "# MAD"
   ]
  },
  {
   "cell_type": "code",
   "execution_count": 55,
   "metadata": {
    "collapsed": false
   },
   "outputs": [
    {
     "data": {
      "text/plain": [
       "Items  Response\n",
       "2      CR           128.549456\n",
       "       FA           479.840000\n",
       "       HIT           92.958953\n",
       "       MISS          22.000000\n",
       "3      CR           340.887574\n",
       "       FA          1123.250000\n",
       "       HIT          219.640138\n",
       "       MISS         395.500000\n",
       "4      CR           219.074094\n",
       "       FA           215.752341\n",
       "       HIT          141.674378\n",
       "       MISS          71.000000\n",
       "5      CR           200.093499\n",
       "       FA           254.975057\n",
       "       HIT          165.259340\n",
       "       MISS         158.204082\n",
       "Name: RT, dtype: float64"
      ]
     },
     "execution_count": 55,
     "metadata": {},
     "output_type": "execute_result"
    }
   ],
   "source": [
    "agg_mad_rt_per_items = data.groupby(['Items', 'Response']).aggregate(pd.DataFrame.mad)['RT']\n",
    "agg_mad_rt_per_items"
   ]
  },
  {
   "cell_type": "code",
   "execution_count": null,
   "metadata": {
    "collapsed": true
   },
   "outputs": [],
   "source": [
    "# Consider using\n",
    "pandas.merge()\n",
    "# ... for multiple CSV reads... (roughly: observer pattern)"
   ]
  }
 ],
 "metadata": {
  "anaconda-cloud": {},
  "kernelspec": {
   "display_name": "Python [conda root]",
   "language": "python",
   "name": "conda-root-py"
  },
  "language_info": {
   "codemirror_mode": {
    "name": "ipython",
    "version": 2
   },
   "file_extension": ".py",
   "mimetype": "text/x-python",
   "name": "python",
   "nbconvert_exporter": "python",
   "pygments_lexer": "ipython2",
   "version": "2.7.12"
  }
 },
 "nbformat": 4,
 "nbformat_minor": 1
}
